{
 "cells": [
  {
   "cell_type": "code",
   "execution_count": 83,
   "metadata": {},
   "outputs": [],
   "source": [
    "import librosa as lr\n",
    "import librosa.display as dis\n",
    "import numpy as np\n",
    "import matplotlib.pyplot as plt\n",
    "from glob import glob\n",
    "from scipy import signal as sg\n"
   ]
  },
  {
   "cell_type": "code",
   "execution_count": 84,
   "metadata": {},
   "outputs": [
    {
     "data": {
      "text/plain": [
       "1"
      ]
     },
     "execution_count": 84,
     "metadata": {},
     "output_type": "execute_result"
    }
   ],
   "source": [
    "audio_files = glob('piano.wav')\n",
    "\n",
    "len(audio_files)"
   ]
  },
  {
   "cell_type": "code",
   "execution_count": 85,
   "metadata": {},
   "outputs": [
    {
     "data": {
      "text/plain": [
       "22050"
      ]
     },
     "execution_count": 85,
     "metadata": {},
     "output_type": "execute_result"
    }
   ],
   "source": [
    "audio, sfreq = lr.load(audio_files[0])\n",
    "stft = np.abs(lr.stft(audio))\n",
    "time = np.arange(0, len(audio))/ sfreq\n",
    "\n",
    "sfreq\n"
   ]
  },
  {
   "cell_type": "code",
   "execution_count": 91,
   "metadata": {},
   "outputs": [
    {
     "data": {
      "text/plain": [
       "array([[9.5715559e-06, 1.0968583e-05, 1.0848279e-05, ..., 3.0602469e-06,\n",
       "        4.8368715e-06, 1.0685594e-05],\n",
       "       [2.0097279e-05, 2.2418659e-05, 1.4349838e-05, ..., 3.9470119e-06,\n",
       "        4.9087544e-06, 1.0554947e-05],\n",
       "       [4.4326043e-06, 8.7192348e-06, 7.0229412e-06, ..., 5.5108990e-06,\n",
       "        5.1886445e-06, 1.2145811e-05],\n",
       "       ...,\n",
       "       [6.6603945e-08, 8.5861743e-08, 9.9602047e-08, ..., 1.1494925e-07,\n",
       "        1.0223604e-07, 9.3673698e-08],\n",
       "       [5.3728016e-08, 5.5326080e-08, 5.3092982e-08, ..., 6.0680101e-08,\n",
       "        8.2920977e-08, 7.2065696e-08],\n",
       "       [8.9064658e-09, 9.4248316e-09, 1.0797548e-08, ..., 1.4672129e-08,\n",
       "        1.9843315e-08, 2.0071255e-08]], dtype=float32)"
      ]
     },
     "execution_count": 91,
     "metadata": {},
     "output_type": "execute_result"
    },
    {
     "data": {
      "image/png": "[encoded data removed]",
      "text/plain": [
       "<Figure size 432x288 with 2 Axes>"
      ]
     },
     "metadata": {
      "needs_background": "light"
     },
     "output_type": "display_data"
    }
   ],
   "source": [
    "C = lr.feature.chroma_stft(y=audio, sr=sfreq)\n",
    "newaudio = np.abs(lr.stft(audio))\n",
    "spect = lr.feature.melspectrogram(S=newaudio, sr=sfreq, window=sg.hamming(1024))\n",
    "dis.specshow(spect, y_axis='chroma')\n",
    "plt.colorbar()\n",
    "plt.title('Spectrogram')\n",
    "\n",
    "spect"
   ]
  },
  {
   "cell_type": "code",
   "execution_count": null,
   "metadata": {},
   "outputs": [],
   "source": []
  },
  {
   "cell_type": "code",
   "execution_count": null,
   "metadata": {},
   "outputs": [],
   "source": []
  }
 ],
 "metadata": {
  "kernelspec": {
   "display_name": "Python 3",
   "language": "python",
   "name": "python3"
  },
  "language_info": {
   "codemirror_mode": {
    "name": "ipython",
    "version": 3
   },
   "file_extension": ".py",
   "mimetype": "text/x-python",
   "name": "python",
   "nbconvert_exporter": "python",
   "pygments_lexer": "ipython3",
   "version": "3.7.3"
  }
 },
 "nbformat": 4,
 "nbformat_minor": 2
}
