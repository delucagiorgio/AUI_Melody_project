{
 "cells": [
  {
   "cell_type": "code",
   "execution_count": 1,
   "metadata": {},
   "outputs": [],
   "source": [
    "import librosa as lr\n",
    "import librosa.display as dis\n",
    "import numpy as np\n",
    "import matplotlib.pyplot as plt\n",
    "from glob import glob\n",
    "from scipy import signal as sg\n"
   ]
  },
  {
   "cell_type": "code",
   "execution_count": 2,
   "metadata": {},
   "outputs": [
    {
     "data": {
      "text/plain": [
       "1"
      ]
     },
     "execution_count": 2,
     "metadata": {},
     "output_type": "execute_result"
    }
   ],
   "source": [
    "audio_files = glob('piano.wav')\n",
    "\n",
    "len(audio_files)"
   ]
  },
  {
   "cell_type": "code",
   "execution_count": 3,
   "metadata": {},
   "outputs": [
    {
     "data": {
      "text/plain": [
       "48000"
      ]
     },
     "execution_count": 3,
     "metadata": {},
     "output_type": "execute_result"
    }
   ],
   "source": [
    "audio, sfreq = lr.load(audio_files[0], sr=48000)\n",
    "stft = np.abs(lr.stft(audio))\n",
    "time = np.arange(0, len(audio))/ sfreq\n",
    "\n",
    "sfreq\n"
   ]
  },
  {
   "cell_type": "code",
   "execution_count": 4,
   "metadata": {},
   "outputs": [
    {
     "data": {
      "text/plain": [
       "array([[1.0743178e-05, 1.1541390e-05, 1.0965980e-05, ..., 1.1809032e-06,\n",
       "        6.2784734e-06, 1.1915464e-05],\n",
       "       [9.2068294e-06, 8.7866520e-06, 1.3465945e-05, ..., 3.1420784e-06,\n",
       "        5.3728622e-06, 1.3328207e-05],\n",
       "       [2.2963370e-06, 4.6195601e-06, 5.7961579e-06, ..., 1.0581597e-05,\n",
       "        1.7533364e-05, 2.0747881e-05],\n",
       "       ...,\n",
       "       [2.8600281e-08, 3.4777422e-08, 3.6272322e-08, ..., 4.4896293e-08,\n",
       "        5.3288066e-08, 5.1115624e-08],\n",
       "       [3.1811584e-08, 3.5109455e-08, 4.0032884e-08, ..., 3.8463423e-08,\n",
       "        3.9035974e-08, 3.2010174e-08],\n",
       "       [3.3911931e-08, 3.5504236e-08, 4.2388027e-08, ..., 4.6505388e-08,\n",
       "        4.2535671e-08, 2.5600785e-08]], dtype=float32)"
      ]
     },
     "execution_count": 4,
     "metadata": {},
     "output_type": "execute_result"
    },
    {
     "data": {
      "image/png": "[encoded data removed]",
      "text/plain": [
       "<Figure size 432x288 with 2 Axes>"
      ]
     },
     "metadata": {
      "needs_background": "light"
     },
     "output_type": "display_data"
    }
   ],
   "source": [
    "C = lr.feature.chroma_stft(y=audio, sr=sfreq)\n",
    "newaudio = np.abs(lr.stft(audio))\n",
    "spect = lr.feature.melspectrogram(S=newaudio, sr=sfreq, window=sg.hamming(1024))\n",
    "dis.specshow(spect, y_axis='hz')\n",
    "plt.colorbar()\n",
    "plt.title('Spectrogram')\n",
    "\n",
    "spect"
   ]
  },
  {
   "cell_type": "code",
   "execution_count": null,
   "metadata": {},
   "outputs": [],
   "source": []
  },
  {
   "cell_type": "code",
   "execution_count": null,
   "metadata": {},
   "outputs": [],
   "source": []
  }
 ],
 "metadata": {
  "kernelspec": {
   "display_name": "Python 3",
   "language": "python",
   "name": "python3"
  },
  "language_info": {
   "codemirror_mode": {
    "name": "ipython",
    "version": 3
   },
   "file_extension": ".py",
   "mimetype": "text/x-python",
   "name": "python",
   "nbconvert_exporter": "python",
   "pygments_lexer": "ipython3",
   "version": "3.7.3"
  }
 },
 "nbformat": 4,
 "nbformat_minor": 2
}
